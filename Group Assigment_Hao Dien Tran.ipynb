{
 "cells": [
  {
   "cell_type": "markdown",
   "metadata": {},
   "source": [
    "The Apple stock information is provided in APPL_Group.txt from 1/04/2020 until 1/04/2022. This file includes various information such as date, opening value, the highest value of the day, the lowest value of the day, closing value, and volume. You should write a program that reads this file and analyse various information. The information in .txt file must be extracted and transferred to suitable lists.\n",
    "\n",
    "Part 1: The program will list the analysed data in the following form:Once the modelling has been run, the user should have the option to run it again. Each time it is run, the output should be saved to disk with the following filename:\n",
    "report_s.txt, where s is a number returned by int(time.time() ) (time.time() is a function from the time module, which you will need to import). This returns the number of seconds since 1/1/70 so that each value of s will be a unique\n",
    "timestamp. For example, the file may look like this: report_1586386072.txt.\n",
    "\n",
    "Part 2: In addition, your program must be able to visualise the information. The user should be able to choose the year and see two liner graphs based on monthly averages of trade volume and monthly averages of closing value"
   ]
  },
  {
   "cell_type": "code",
   "execution_count": 64,
   "metadata": {},
   "outputs": [
    {
     "name": "stdout",
     "output_type": "stream",
     "text": [
      "year\n",
      "2020    374336800\n",
      "2021    195432700\n",
      "2022    179935700\n",
      "Name: Volume, dtype: int64\n",
      "749705200\n"
     ]
    }
   ],
   "source": [
    "import pandas as pd\n",
    "import numpy as np\n",
    "df = pd.read_table(\"AAPL_Group.txt\", delimiter=\",\")\n",
    "df['new_date'] = pd.to_datetime(df.Date, format='%Y-%m-%d')\n",
    "df['year'] = df['new_date'].dt.year\n",
    "Max_Volume = df.groupby(['year'])[\"Volume\"].max()\n",
    "Max_Volume_Total = sum(Max_Volume)\n",
    "print(Max_Volume)\n",
    "print(Max_Volume_Total)\n",
    "\n"
   ]
  },
  {
   "cell_type": "code",
   "execution_count": 91,
   "metadata": {},
   "outputs": [
    {
     "name": "stdout",
     "output_type": "stream",
     "text": [
      "year\n",
      "2020    46691300\n",
      "2021    41000000\n",
      "2022    61177400\n",
      "Name: Volume, dtype: int64\n",
      "148868700\n"
     ]
    }
   ],
   "source": [
    "import pandas as pd\n",
    "import numpy as np\n",
    "df = pd.read_table(\"AAPL_Group.txt\", delimiter=\",\")\n",
    "df['new_date'] = pd.to_datetime(df.Date, format='%Y-%m-%d')\n",
    "df['year'] = df['new_date'].dt.year\n",
    "Min_Volume = df.groupby(['year'])[\"Volume\"].min()\n",
    "Min_Volume_Total = sum(Min_Volume)\n",
    "print(Min_Volume)\n",
    "print(Min_Volume_Total)"
   ]
  },
  {
   "cell_type": "code",
   "execution_count": 66,
   "metadata": {},
   "outputs": [
    {
     "name": "stdout",
     "output_type": "stream",
     "text": [
      "year\n",
      "2020     71.462502\n",
      "2021    116.209999\n",
      "2022    150.100006\n",
      "Name: Low, dtype: float64\n",
      "337.772507\n"
     ]
    }
   ],
   "source": [
    "import pandas as pd\n",
    "import numpy as np\n",
    "df = pd.read_table(\"AAPL_Group.txt\", delimiter=\",\")\n",
    "df['new_date'] = pd.to_datetime(df.Date, format='%Y-%m-%d')\n",
    "df['year'] = df['new_date'].dt.year\n",
    "Lowest_Open = df.groupby(['year'])[\"Low\"].min()\n",
    "Lowest_Open_Total = sum(Lowest_Open)\n",
    "print(Lowest_Open)\n",
    "print(Lowest_Open_Total)"
   ]
  },
  {
   "cell_type": "code",
   "execution_count": 75,
   "metadata": {},
   "outputs": [
    {
     "name": "stdout",
     "output_type": "stream",
     "text": [
      "year\n",
      "2020    138.789993\n",
      "2021    182.130005\n",
      "2022    182.940002\n",
      "Name: High, dtype: float64\n",
      "503.86\n"
     ]
    }
   ],
   "source": [
    "import pandas as pd\n",
    "import numpy as np\n",
    "df = pd.read_table(\"AAPL_Group.txt\", delimiter=\",\")\n",
    "df['new_date'] = pd.to_datetime(df.Date, format='%Y-%m-%d')\n",
    "df['year'] = df['new_date'].dt.year\n",
    "Highest_Open = df.groupby(['year'])[\"High\"].max()\n",
    "Highest_Open_Total = sum(Highest_Open)\n",
    "print(Highest_Open)\n",
    "print(Highest_Open_Total)"
   ]
  },
  {
   "cell_type": "code",
   "execution_count": 84,
   "metadata": {},
   "outputs": [
    {
     "name": "stdout",
     "output_type": "stream",
     "text": [
      "           Date        Open        High         Low       Close   Adj Close  \\\n",
      "71   2020-08-12  110.497498  113.275002  110.297501  113.010002  111.981476   \n",
      "116  2020-10-15  118.720001  121.199997  118.150002  120.709999  119.611397   \n",
      "150  2020-12-03  123.519997  123.779999  122.209999  122.940002  122.031273   \n",
      "\n",
      "        Volume   new_date  year  \n",
      "71   165598000 2020-08-12  2020  \n",
      "116  112559200 2020-10-15  2020  \n",
      "150   78967600 2020-12-03  2020  \n"
     ]
    }
   ],
   "source": [
    "import pandas as pd\n",
    "import numpy as np\n",
    "df = pd.read_table(\"AAPL_Group.txt\", delimiter=\",\")\n",
    "df['new_date'] = pd.to_datetime(df.Date, format='%Y-%m-%d')\n",
    "df['year'] = df['new_date'].dt.year\n",
    "Lowest_Monthly_Average = df.iloc[df.groupby(['year'])['Low'].min()]\n",
    "print(Lowest_Monthly_Average)\n"
   ]
  },
  {
   "cell_type": "code",
   "execution_count": 85,
   "metadata": {},
   "outputs": [
    {
     "name": "stdout",
     "output_type": "stream",
     "text": [
      "           Date        Open        High         Low       Close   Adj Close  \\\n",
      "167  2020-12-29  138.050003  138.789993  134.339996  134.869995  133.873093   \n",
      "408  2021-12-13  181.119995  182.130005  175.529999  175.740005  175.516388   \n",
      "423  2022-01-04  182.630005  182.940002  179.119995  179.699997  179.471344   \n",
      "\n",
      "        Volume   new_date  year  \n",
      "167  121047300 2020-12-29  2020  \n",
      "408  153237000 2021-12-13  2021  \n",
      "423   99310400 2022-01-04  2022  \n"
     ]
    }
   ],
   "source": [
    "import pandas as pd\n",
    "import numpy as np\n",
    "df = pd.read_table(\"AAPL_Group.txt\", delimiter=\",\")\n",
    "df['new_date'] = pd.to_datetime(df.Date, format='%Y-%m-%d')\n",
    "df['year'] = df['new_date'].dt.year\n",
    "highest_temp = df.iloc[df.groupby(['year'])['High'].idxmax()]\n",
    "print(highest_temp)"
   ]
  },
  {
   "cell_type": "code",
   "execution_count": 94,
   "metadata": {},
   "outputs": [
    {
     "data": {
      "text/html": [
       "<div>\n",
       "<style scoped>\n",
       "    .dataframe tbody tr th:only-of-type {\n",
       "        vertical-align: middle;\n",
       "    }\n",
       "\n",
       "    .dataframe tbody tr th {\n",
       "        vertical-align: top;\n",
       "    }\n",
       "\n",
       "    .dataframe thead th {\n",
       "        text-align: right;\n",
       "    }\n",
       "</style>\n",
       "<table border=\"1\" class=\"dataframe\">\n",
       "  <thead>\n",
       "    <tr style=\"text-align: right;\">\n",
       "      <th></th>\n",
       "      <th>2020</th>\n",
       "      <th>2021</th>\n",
       "      <th>2022</th>\n",
       "      <th>Total</th>\n",
       "    </tr>\n",
       "  </thead>\n",
       "  <tbody>\n",
       "    <tr>\n",
       "      <th>0</th>\n",
       "      <td>year\n",
       "2020    374336800\n",
       "2021    195432700\n",
       "2022 ...</td>\n",
       "      <td></td>\n",
       "      <td></td>\n",
       "      <td>7.497052e+08</td>\n",
       "    </tr>\n",
       "    <tr>\n",
       "      <th>1</th>\n",
       "      <td>year\n",
       "2020    46691300\n",
       "2021    41000000\n",
       "2022   ...</td>\n",
       "      <td></td>\n",
       "      <td></td>\n",
       "      <td>1.488687e+08</td>\n",
       "    </tr>\n",
       "    <tr>\n",
       "      <th>2</th>\n",
       "      <td>year\n",
       "2020     71.462502\n",
       "2021    116.209999\n",
       "202...</td>\n",
       "      <td></td>\n",
       "      <td></td>\n",
       "      <td>3.377725e+02</td>\n",
       "    </tr>\n",
       "    <tr>\n",
       "      <th>3</th>\n",
       "      <td>year\n",
       "2020    138.789993\n",
       "2021    182.130005\n",
       "202...</td>\n",
       "      <td></td>\n",
       "      <td></td>\n",
       "      <td>5.038600e+02</td>\n",
       "    </tr>\n",
       "  </tbody>\n",
       "</table>\n",
       "</div>"
      ],
      "text/plain": [
       "                                                2020 2021 2022         Total\n",
       "0  year\n",
       "2020    374336800\n",
       "2021    195432700\n",
       "2022 ...            7.497052e+08\n",
       "1  year\n",
       "2020    46691300\n",
       "2021    41000000\n",
       "2022   ...            1.488687e+08\n",
       "2  year\n",
       "2020     71.462502\n",
       "2021    116.209999\n",
       "202...            3.377725e+02\n",
       "3  year\n",
       "2020    138.789993\n",
       "2021    182.130005\n",
       "202...            5.038600e+02"
      ]
     },
     "execution_count": 94,
     "metadata": {},
     "output_type": "execute_result"
    }
   ],
   "source": [
    "import pandas as pd\n",
    "data = [[Max_Volume,\"\",\"\",Max_Volume_Total], [Min_Volume,\"\",\"\",Min_Volume_Total],[Lowest_Open,\"\",\"\",Lowest_Open_Total],\n",
    "       [Highest_Open,\"\",\"\",Highest_Open_Total]]\n",
    "pd.DataFrame(data, columns=[\"2020\", \"2021\", \"2022\",\"Total\"])"
   ]
  },
  {
   "cell_type": "code",
   "execution_count": null,
   "metadata": {},
   "outputs": [],
   "source": []
  }
 ],
 "metadata": {
  "interpreter": {
   "hash": "5bb20a03a4ed485dc097ad4d121b5e9738a228bc02e09cc3bdc0faa28e91b64a"
  },
  "kernelspec": {
   "display_name": "Python 3 (ipykernel)",
   "language": "python",
   "name": "python3"
  },
  "language_info": {
   "codemirror_mode": {
    "name": "ipython",
    "version": 3
   },
   "file_extension": ".py",
   "mimetype": "text/x-python",
   "name": "python",
   "nbconvert_exporter": "python",
   "pygments_lexer": "ipython3",
   "version": "3.9.7"
  }
 },
 "nbformat": 4,
 "nbformat_minor": 2
}
