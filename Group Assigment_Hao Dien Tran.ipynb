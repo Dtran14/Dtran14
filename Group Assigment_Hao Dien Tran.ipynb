{
 "cells": [
  {
   "cell_type": "markdown",
   "metadata": {},
   "source": [
    "The Apple stock information is provided in APPL_Group.txt from 1/04/2020 until 1/04/2022. This file includes various information such as date, opening value, the highest value of the day, the lowest value of the day, closing value, and volume. You should write a program that reads this file and analyse various information. The information in .txt file must be extracted and transferred to suitable lists.\n",
    "\n",
    "Part 1: The program will list the analysed data in the following form:Once the modelling has been run, the user should have the option to run it again. Each time it is run, the output should be saved to disk with the following filename:\n",
    "report_s.txt, where s is a number returned by int(time.time() ) (time.time() is a function from the time module, which you will need to import). This returns the number of seconds since 1/1/70 so that each value of s will be a unique\n",
    "timestamp. For example, the file may look like this: report_1586386072.txt.\n",
    "\n",
    "Part 2: In addition, your program must be able to visualise the information. The user should be able to choose the year and see two liner graphs based on monthly averages of trade volume and monthly averages of closing value"
   ]
  },
  {
   "cell_type": "code",
   "execution_count": 54,
   "metadata": {},
   "outputs": [
    {
     "name": "stdout",
     "output_type": "stream",
     "text": [
      "year\n",
      "2020    374336800\n",
      "2021    195432700\n",
      "2022    179935700\n",
      "Name: Volume, dtype: int64\n",
      "749705200\n"
     ]
    }
   ],
   "source": [
    "import pandas as pd\n",
    "import numpy as np\n",
    "df = pd.read_table(\"AAPL_Group.txt\", delimiter=\",\")\n",
    "df['new_date'] = pd.to_datetime(df.Date, format='%Y-%m-%d')\n",
    "df['year'] = df['new_date'].dt.year\n",
    "max_temp = df.groupby(['year'])[\"Volume\"].max()\n",
    "max_temp_2 = sum(max_temp)\n",
    "print(max_temp)\n",
    "print(max_temp_2)\n",
    "\n"
   ]
  },
  {
   "cell_type": "code",
   "execution_count": 55,
   "metadata": {},
   "outputs": [
    {
     "name": "stdout",
     "output_type": "stream",
     "text": [
      "year\n",
      "2020    46691300\n",
      "2021    41000000\n",
      "2022    61177400\n",
      "Name: Volume, dtype: int64\n"
     ]
    }
   ],
   "source": [
    "import pandas as pd\n",
    "import numpy as np\n",
    "df = pd.read_table(\"AAPL_Group.txt\", delimiter=\",\")\n",
    "df['new_date'] = pd.to_datetime(df.Date, format='%Y-%m-%d')\n",
    "df['year'] = df['new_date'].dt.year\n",
    "min_temp = df.groupby(['year'])[\"Volume\"].min()\n",
    "print(min_temp)\n"
   ]
  },
  {
   "cell_type": "code",
   "execution_count": 5,
   "metadata": {},
   "outputs": [
    {
     "name": "stdout",
     "output_type": "stream",
     "text": [
      "year\n",
      "2020     71.462502\n",
      "2021    116.209999\n",
      "2022    150.100006\n",
      "Name: Low, dtype: float64\n"
     ]
    }
   ],
   "source": [
    "import pandas as pd\n",
    "import numpy as np\n",
    "df = pd.read_table(\"AAPL_Group.txt\", delimiter=\",\")\n",
    "df['new_date'] = pd.to_datetime(df.Date, format='%Y-%m-%d')\n",
    "df['year'] = df['new_date'].dt.year\n",
    "lowest_temp = df.groupby(['year'])[\"Low\"].min()\n",
    "print(lowest_temp)"
   ]
  },
  {
   "cell_type": "code",
   "execution_count": 14,
   "metadata": {},
   "outputs": [
    {
     "name": "stdout",
     "output_type": "stream",
     "text": [
      "year\n",
      "2020    138.789993\n",
      "2021    182.130005\n",
      "2022    182.940002\n",
      "Name: High, dtype: float64\n"
     ]
    }
   ],
   "source": [
    "import pandas as pd\n",
    "import numpy as np\n",
    "df = pd.read_table(\"AAPL_Group.txt\", delimiter=\",\")\n",
    "df['new_date'] = pd.to_datetime(df.Date, format='%Y-%m-%d')\n",
    "df['year'] = df['new_date'].dt.year\n",
    "highest_temp = df.groupby(['year'])[\"High\"].max()\n",
    "print(highest_temp)"
   ]
  },
  {
   "cell_type": "code",
   "execution_count": 44,
   "metadata": {},
   "outputs": [
    {
     "name": "stdout",
     "output_type": "stream",
     "text": [
      "           Date        Open        High         Low       Close   Adj Close  \\\n",
      "167  2020-12-29  138.050003  138.789993  134.339996  134.869995  133.873093   \n",
      "408  2021-12-13  181.119995  182.130005  175.529999  175.740005  175.516388   \n",
      "423  2022-01-04  182.630005  182.940002  179.119995  179.699997  179.471344   \n",
      "\n",
      "        Volume   new_date  year  \n",
      "167  121047300 2020-12-29  2020  \n",
      "408  153237000 2021-12-13  2021  \n",
      "423   99310400 2022-01-04  2022  \n"
     ]
    }
   ],
   "source": [
    "import pandas as pd\n",
    "import numpy as np\n",
    "df = pd.read_table(\"AAPL_Group.txt\", delimiter=\",\")\n",
    "df['new_date'] = pd.to_datetime(df.Date, format='%Y-%m-%d')\n",
    "df['year'] = df['new_date'].dt.year\n",
    "highest_temp = df.iloc[df.groupby(['year'])['High'].idxmax()]\n",
    "print(highest_temp)"
   ]
  },
  {
   "cell_type": "code",
   "execution_count": 43,
   "metadata": {},
   "outputs": [
    {
     "name": "stdout",
     "output_type": "stream",
     "text": [
      "           Date        Open        High         Low       Close   Adj Close  \\\n",
      "0    2020-05-01   71.562500   74.750000   71.462502   72.267502   71.287926   \n",
      "213  2021-03-08  120.930000  121.000000  116.209999  116.360001  115.672501   \n",
      "470  2022-03-14  151.449997  154.119995  150.100006  150.619995  150.619995   \n",
      "\n",
      "        Volume   new_date  year  \n",
      "0    240616800 2020-05-01  2020  \n",
      "213  154376600 2021-03-08  2021  \n",
      "470  108732100 2022-03-14  2022  \n"
     ]
    }
   ],
   "source": [
    "import pandas as pd\n",
    "import numpy as np\n",
    "df = pd.read_table(\"AAPL_Group.txt\", delimiter=\",\")\n",
    "df['new_date'] = pd.to_datetime(df.Date, format='%Y-%m-%d')\n",
    "df['year'] = df['new_date'].dt.year\n",
    "lowest_temp = df.iloc[df.groupby(['year'])['Low'].idxmin()]\n",
    "print(lowest_temp)"
   ]
  },
  {
   "cell_type": "code",
   "execution_count": 59,
   "metadata": {},
   "outputs": [
    {
     "data": {
      "text/html": [
       "<div>\n",
       "<style scoped>\n",
       "    .dataframe tbody tr th:only-of-type {\n",
       "        vertical-align: middle;\n",
       "    }\n",
       "\n",
       "    .dataframe tbody tr th {\n",
       "        vertical-align: top;\n",
       "    }\n",
       "\n",
       "    .dataframe thead th {\n",
       "        text-align: right;\n",
       "    }\n",
       "</style>\n",
       "<table border=\"1\" class=\"dataframe\">\n",
       "  <thead>\n",
       "    <tr style=\"text-align: right;\">\n",
       "      <th></th>\n",
       "      <th>2020</th>\n",
       "      <th>2021</th>\n",
       "      <th>2022</th>\n",
       "      <th>Total</th>\n",
       "    </tr>\n",
       "  </thead>\n",
       "  <tbody>\n",
       "    <tr>\n",
       "      <th>0</th>\n",
       "      <td>year\n",
       "2020    374336800\n",
       "2021    195432700\n",
       "2022 ...</td>\n",
       "      <td></td>\n",
       "      <td></td>\n",
       "      <td>749705200</td>\n",
       "    </tr>\n",
       "    <tr>\n",
       "      <th>1</th>\n",
       "      <td>3</td>\n",
       "      <td>4</td>\n",
       "      <td>5</td>\n",
       "      <td>6</td>\n",
       "    </tr>\n",
       "    <tr>\n",
       "      <th>2</th>\n",
       "      <td>5</td>\n",
       "      <td>6</td>\n",
       "      <td>7</td>\n",
       "      <td>8</td>\n",
       "    </tr>\n",
       "  </tbody>\n",
       "</table>\n",
       "</div>"
      ],
      "text/plain": [
       "                                                2020 2021 2022      Total\n",
       "0  year\n",
       "2020    374336800\n",
       "2021    195432700\n",
       "2022 ...            749705200\n",
       "1                                                  3    4    5          6\n",
       "2                                                  5    6    7          8"
      ]
     },
     "execution_count": 59,
     "metadata": {},
     "output_type": "execute_result"
    }
   ],
   "source": [
    "import pandas as pd\n",
    "data = [[max_temp,\"\",\"\",max_temp_2], [3,4,5,6],[5,6,7,8]]\n",
    "pd.DataFrame(data, columns=[\"2020\", \"2021\", \"2022\",\"Total\"])"
   ]
  },
  {
   "cell_type": "code",
   "execution_count": null,
   "metadata": {},
   "outputs": [],
   "source": []
  }
 ],
 "metadata": {
  "interpreter": {
   "hash": "5bb20a03a4ed485dc097ad4d121b5e9738a228bc02e09cc3bdc0faa28e91b64a"
  },
  "kernelspec": {
   "display_name": "Python 3 (ipykernel)",
   "language": "python",
   "name": "python3"
  },
  "language_info": {
   "codemirror_mode": {
    "name": "ipython",
    "version": 3
   },
   "file_extension": ".py",
   "mimetype": "text/x-python",
   "name": "python",
   "nbconvert_exporter": "python",
   "pygments_lexer": "ipython3",
   "version": "3.9.7"
  }
 },
 "nbformat": 4,
 "nbformat_minor": 2
}
